{
 "cells": [
  {
   "cell_type": "markdown",
   "metadata": {},
   "source": [
    "# Aesthetic Unification\n",
    "Here are some things we should do to make our plots similiar. To see an example plot, run the final python \n",
    "Note: instances of ```axs[i]``` can be replaced with ```plt.gca()```. \n",
    "\n"
   ]
  },
  {
   "cell_type": "code",
   "execution_count": null,
   "metadata": {},
   "outputs": [],
   "source": [
    "# Import(s)\n",
    "import numpy as np \n",
    "import matplotlib.pyplot as plt\n",
    "from matplotlib.ticker import AutoMinorLocator\n",
    "# Action\n",
    "fig, axs = plt.subplots(2,2)"
   ]
  },
  {
   "cell_type": "markdown",
   "metadata": {},
   "source": [
    "### 1. Use ```serif``` font family and ```dejavuserif``` font for equations (you can use LaTeX commands in matplotlib with ```r'$$'```, e.g. ```label=r'$\\frac{\\Delta y}{\\Delta x}$'``` would give the label $\\frac{\\Delta y}{\\Delta x})$:"
   ]
  },
  {
   "cell_type": "code",
   "execution_count": null,
   "metadata": {},
   "outputs": [],
   "source": [
    "plt.rcParams['font.family'] = 'serif'\n",
    "plt.rcParams['mathtext.fontset'] = 'dejavuserif'"
   ]
  },
  {
   "cell_type": "markdown",
   "metadata": {},
   "source": [
    "### 2. A ton of tick settings (inward facing ticks, activate minor ticks, etc.):"
   ]
  },
  {
   "cell_type": "code",
   "execution_count": null,
   "metadata": {},
   "outputs": [],
   "source": [
    "axs[i].tick_params(axis='both',which='both',direction='in')\n",
    "axs[i].tick_params(which='both',bottom=True,top=True,left=True,right=True)\n",
    "axs[i].tick_params(labelbottom=True,labeltop=False,labelleft=True,labelright=False)\n",
    "axs[i].xaxis.set_minor_locator(AutoMinorLocator())\n",
    "axs[i].yaxis.set_minor_locator(AutoMinorLocator())"
   ]
  },
  {
   "cell_type": "markdown",
   "metadata": {},
   "source": [
    "### 3. Adjust ```wspace``` and ```hspace``` settings when using plots with more than one axes (as needed)"
   ]
  },
  {
   "cell_type": "code",
   "execution_count": null,
   "metadata": {},
   "outputs": [],
   "source": [
    "plt.subplots_adjust(hspace=0.5,wspace=0.5)"
   ]
  },
  {
   "cell_type": "markdown",
   "metadata": {},
   "source": [
    "### 4. Adjust legend settings (black outline, no shadow, etc.). Feel free to play with ```fontsize``` and ```loc``` depending on the nature of your particular plot. "
   ]
  },
  {
   "cell_type": "code",
   "execution_count": null,
   "metadata": {},
   "outputs": [],
   "source": [
    "axs[i].legend(loc='upper right',fontsize=5,fancybox=False,edgecolor='black',shadow=False)"
   ]
  },
  {
   "cell_type": "markdown",
   "metadata": {},
   "source": [
    "### 5. Colors: use the hex color ```#408ee0``` as your default blue, ```#89bff8``` as your secondary blue, and ```#0051a2``` as your tertiary blue. "
   ]
  },
  {
   "cell_type": "markdown",
   "metadata": {},
   "source": [
    "### 6. Linestyles and marker styles\n",
    "Use ```ls='solid'``` as your default linestyle, ```ls='dashed'``` as your secondary, and ```ls='dotted'``` as your tertiary linestyle; use ```marker='o'``` as your default marker (circle), ```marker='s'``` as your secondary (square), and ```marker='d'``` as your tertiary marker (thin diamond). We can't just differentiate based on color; color differentiation needs to be accompanied by other stylistic differentiation. Feel free to play with line widths and marker sizes to fine tune the aesthetics of your plot. "
   ]
  },
  {
   "cell_type": "markdown",
   "metadata": {},
   "source": [
    "### 7. Label axes appropriately."
   ]
  },
  {
   "cell_type": "markdown",
   "metadata": {},
   "source": [
    "### 8. Saving figures: set ```dpi``` to ```300```, *at minimum*; save images as ```png``` (this is default).  "
   ]
  },
  {
   "cell_type": "code",
   "execution_count": null,
   "metadata": {},
   "outputs": [],
   "source": [
    "plt.savefig(fname='',dpi=300)"
   ]
  },
  {
   "cell_type": "markdown",
   "metadata": {},
   "source": [
    "### 9. Everything together"
   ]
  },
  {
   "cell_type": "code",
   "execution_count": null,
   "metadata": {},
   "outputs": [],
   "source": [
    "# Import(s)\n",
    "import numpy as np\n",
    "import matplotlib.pyplot as plt\n",
    "from matplotlib.ticker import AutoMinorLocator\n",
    "\n",
    "# Action\n",
    "plt.rcParams['font.family'] = 'serif'\n",
    "plt.rcParams['mathtext.fontset'] = 'dejavuserif'\n",
    "fig, axs = plt.subplots(2,2)\n",
    "plt.subplots_adjust(hspace=0.4,wspace=0.5)\n",
    "\n",
    "# Plot\n",
    "\n",
    "# axs[0,0]\n",
    "\n",
    "x1 = np.random.normal(0,1,1000)\n",
    "axs[0,0].hist(x1,color='#408ee0',label='Histogram')\n",
    "\n",
    "axs[0,0].set_xlabel('x')\n",
    "axs[0,0].set_ylabel('Frequency')\n",
    "\n",
    "axs[0,0].legend(loc='upper left',fontsize=5,fancybox=False,edgecolor='black',shadow=False)\n",
    "axs[0,0].tick_params(axis='both',which='both',direction='in')\n",
    "axs[0,0].tick_params(which='both',bottom=True,top=True,left=True,right=True)\n",
    "axs[0,0].tick_params(labelbottom=True,labeltop=False,labelleft=True,labelright=False)\n",
    "axs[0,0].xaxis.set_minor_locator(AutoMinorLocator())\n",
    "axs[0,0].yaxis.set_minor_locator(AutoMinorLocator())\n",
    "\n",
    "# axs[0,1]\n",
    "x2 = np.linspace(0,5,5)\n",
    "y1 = x2\n",
    "y2 = 2*x2\n",
    "y3 = 3*x2\n",
    "\n",
    "axs[0,1].scatter(x2,y1,color='#408ee0',marker='o',label=r'$\\frac{\\Delta y}{\\Delta x}$ = 1')\n",
    "axs[0,1].scatter(x2,y2,color='#89bff8',marker='s',label=r'$\\frac{\\Delta y}{\\Delta x}$ = 2')\n",
    "axs[0,1].scatter(x2,y3,color='#0051a2',marker='d',label=r'$\\frac{\\Delta y}{\\Delta x}$ = 3')\n",
    "\n",
    "axs[0,1].set_xlabel('x')\n",
    "axs[0,1].set_ylabel('y')\n",
    "\n",
    "axs[0,1].legend(loc='upper left',fontsize=5,fancybox=False,edgecolor='black',shadow=False)\n",
    "axs[0,1].tick_params(axis='both',which='both',direction='in')\n",
    "axs[0,1].tick_params(which='both',bottom=True,top=True,left=True,right=True)\n",
    "axs[0,1].tick_params(labelbottom=True,labeltop=False,labelleft=True,labelright=False)\n",
    "axs[0,1].xaxis.set_minor_locator(AutoMinorLocator())\n",
    "axs[0,1].yaxis.set_minor_locator(AutoMinorLocator())\n",
    "\n",
    "# axs[1,0]\n",
    "axs[1,0].plot(x2,y1,color='#408ee0',ls='solid',label=r'$\\frac{\\Delta y}{\\Delta x}$ = 1')\n",
    "axs[1,0].plot(x2,y2,color='#89bff8',ls='dashed',label=r'$\\frac{\\Delta y}{\\Delta x}$ = 2')\n",
    "axs[1,0].plot(x2,y3,color='#0051a2',ls='dotted',label=r'$\\frac{\\Delta y}{\\Delta x}$ = 3')\n",
    "\n",
    "axs[1,0].set_xlabel('x')\n",
    "axs[1,0].set_ylabel('y')\n",
    "\n",
    "axs[1,0].legend(loc='upper left',fontsize=5,fancybox=False,edgecolor='black',shadow=False)\n",
    "axs[1,0].tick_params(axis='both',which='both',direction='in')\n",
    "axs[1,0].tick_params(which='both',bottom=True,top=True,left=True,right=True)\n",
    "axs[1,0].tick_params(labelbottom=True,labeltop=False,labelleft=True,labelright=False)\n",
    "axs[1,0].xaxis.set_minor_locator(AutoMinorLocator())\n",
    "axs[1,0].yaxis.set_minor_locator(AutoMinorLocator())\n",
    "\n",
    "# axs[1,1]\n",
    "x3 = np.linspace(-np.pi,np.pi,30)\n",
    "y3 = np.sin(x3)\n",
    "\n",
    "axs[1,1].scatter(x3,y3,color='#408ee0',marker='o',label=r'$\\sin(x)$')\n",
    "\n",
    "axs[1,1].set_xlabel('x')\n",
    "axs[1,1].set_ylabel('y')\n",
    "\n",
    "axs[1,1].legend(loc='upper left',fontsize=7,fancybox=False,edgecolor='black',shadow=False)\n",
    "axs[1,1].tick_params(axis='both',which='both',direction='in')\n",
    "axs[1,1].tick_params(which='both',bottom=True,top=True,left=True,right=True)\n",
    "axs[1,1].tick_params(labelbottom=True,labeltop=False,labelleft=True,labelright=False)\n",
    "axs[1,1].xaxis.set_minor_locator(AutoMinorLocator())\n",
    "axs[1,1].yaxis.set_minor_locator(AutoMinorLocator())\n",
    "\n",
    "# Show plot\n",
    "plt.show()"
   ]
  }
 ],
 "metadata": {
  "kernelspec": {
   "display_name": "Python 3",
   "language": "python",
   "name": "python3"
  },
  "language_info": {
   "codemirror_mode": {
    "name": "ipython",
    "version": 3
   },
   "file_extension": ".py",
   "mimetype": "text/x-python",
   "name": "python",
   "nbconvert_exporter": "python",
   "pygments_lexer": "ipython3",
   "version": "3.8.5"
  }
 },
 "nbformat": 4,
 "nbformat_minor": 2
}