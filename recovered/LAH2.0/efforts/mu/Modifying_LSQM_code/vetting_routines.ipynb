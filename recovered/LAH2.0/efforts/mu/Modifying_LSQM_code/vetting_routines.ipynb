{
 "metadata": {
  "language_info": {
   "codemirror_mode": {
    "name": "ipython",
    "version": 3
   },
   "file_extension": ".py",
   "mimetype": "text/x-python",
   "name": "python",
   "nbconvert_exporter": "python",
   "pygments_lexer": "ipython3",
   "version": "3.8.5"
  },
  "orig_nbformat": 2,
  "kernelspec": {
   "name": "python3",
   "display_name": "Python 3",
   "language": "python"
  }
 },
 "nbformat": 4,
 "nbformat_minor": 2,
 "cells": [
  {
   "source": [
    "### "
   ],
   "cell_type": "markdown",
   "metadata": {}
  },
  {
   "cell_type": "code",
   "execution_count": null,
   "metadata": {},
   "outputs": [],
   "source": [
    "# Import(s)\n",
    "import numpy as np\n",
    "import pandas as pd\n",
    "import os \n",
    "from shutil import copyfile"
   ]
  },
  {
   "cell_type": "code",
   "execution_count": 3,
   "metadata": {},
   "outputs": [
    {
     "output_type": "stream",
     "name": "stdout",
     "text": [
      "gCPOW1,gCPER1,gCPOW2,gCPER2,gCPOW3,gCPER3,gCPOW4,gCPER4,gOPOW1,gOPER1,gOPOW2,gOPER2,gOPOW3,gOPER3,gOPOW4,gOPER4,gOQ,gQ,gM,g90%_FAP,g95%_FAP,g99%_FAP\n"
     ]
    }
   ],
   "source": []
  },
  {
   "source": [
    "### Consolidation"
   ],
   "cell_type": "markdown",
   "metadata": {}
  },
  {
   "cell_type": "code",
   "execution_count": 6,
   "metadata": {},
   "outputs": [
    {
     "output_type": "stream",
     "name": "stdout",
     "text": [
      "['kiker,thad', 'gee,miles']\n"
     ]
    }
   ],
   "source": [
    "first = ['thad', 'miles']\n",
    "last = ['kiker', 'gee']\n",
    "lastandfirst = [last[i]+','+first[i] for i in range(2)]\n",
    "print(lastandfirst)"
   ]
  }
 ]
}