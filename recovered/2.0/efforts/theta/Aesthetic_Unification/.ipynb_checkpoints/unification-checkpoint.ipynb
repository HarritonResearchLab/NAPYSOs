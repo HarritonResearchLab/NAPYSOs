{
 "cells": [
  {
   "cell_type": "markdown",
   "metadata": {},
   "source": [
    "# Aesthetic Unification\n",
    "Here are some things we should do to make our plots similiar. \n",
    "Note: instances of ```axs[i]``` can be replaced with ```plt.gca()```. \n",
    "\n"
   ]
  },
  {
   "cell_type": "code",
   "execution_count": null,
   "metadata": {},
   "outputs": [],
   "source": [
    "# Import(s)\n",
    "import numpy as np \n",
    "import matplotlib.pyplot as plt\n",
    "from matplotlib.ticker import AutoMinorLocator\n",
    "# Action\n",
    "fig, axs = plt.subplots(3,1)"
   ]
  },
  {
   "cell_type": "markdown",
   "metadata": {},
   "source": [
    "### 1. Use ```serif``` font family and ```dejavuserif``` font for equations (you can use LaTeX commands in matplotlib with ```r'$$'```, e.g. ```label=r'$\\frac{\\Delta y}{\\Delta x}$'):"
   ]
  },
  {
   "cell_type": "code",
   "execution_count": null,
   "metadata": {},
   "outputs": [],
   "source": [
    "plt.rcParams['font.family'] = 'serif'\n",
    "plt.rcParams['mathtext.fontset'] = 'dejavuserif'"
   ]
  },
  {
   "cell_type": "markdown",
   "metadata": {},
   "source": [
    "### 2. A ton of tick settings (inward facing ticks, activate minor ticks, etc.):"
   ]
  },
  {
   "cell_type": "code",
   "execution_count": null,
   "metadata": {},
   "outputs": [],
   "source": [
    "for i in range(2):\n",
    "    axs[i].tick_params(axis='both',which='both',direction='in')\n",
    "    axs[i].tick_params(bottom=True,top=True,left=True,right=True)\n",
    "    axs[i].tick_params(labelbottom=True,labeltop=False,labelleft=True,labelright=False)\n",
    "    axs[i].xaxis.set_minor_locator(AutoMinorLocator())\n",
    "    axs[i].yaxis.set_minor_locator(AutoMinorLocator())"
   ]
  },
  {
   "cell_type": "markdown",
   "metadata": {},
   "source": [
    "### 3. Adjust ```wspace``` and ```hspace``` settings when using plots with more than one axes (as needed)"
   ]
  },
  {
   "cell_type": "code",
   "execution_count": null,
   "metadata": {},
   "outputs": [],
   "source": [
    "plt.subplots_adjust(hspace=0.5,wspace=0.5)"
   ]
  },
  {
   "cell_type": "markdown",
   "metadata": {},
   "source": [
    "### 4. Adjust legend settings (black outline, no shadow, etc.). Feel free to play with ```fontsize``` and ```loc``` depending on the nature of your particular plot. "
   ]
  },
  {
   "cell_type": "code",
   "execution_count": null,
   "metadata": {},
   "outputs": [],
   "source": [
    "for i in range(2):\n",
    "    axs[i].legend(loc='upper right',fontsize=5,fancybox=False,edgecolor='black',shadow=False)"
   ]
  },
  {
   "cell_type": "markdown",
   "metadata": {},
   "source": [
    "### 5. Colors: use the hex color ```#408ee0``` as your default blue, ```#89bff8``` as your secondary blue, and ```#0051a2``` as your tertiary blue. "
   ]
  },
  {
   "cell_type": "markdown",
   "metadata": {},
   "source": [
    "### 6. Linestyles and marker styles: use ```ls='solid'``` as your default linestyle, ```ls='dashed'``` as your secondary, and ```ls='dotted'``` as your tertiary linestyle; use ```marker='circle'``` as your default marker, ```marker='square'``` as your secondary, and ```marker='thin_diamond'``` as your tertiary marker. We can't just differentiate based on color; color differentiation needs to be accompanied by other stylistic differentiation. "
   ]
  },
  {
   "cell_type": "markdown",
   "metadata": {},
   "source": [
    "### 7. Label axes appropriately."
   ]
  },
  {
   "cell_type": "markdown",
   "metadata": {},
   "source": [
    "### x. Saving figures: set ```dpi``` to ```300```, *at minimum*; save images as ```png``` (this is default).  "
   ]
  },
  {
   "cell_type": "code",
   "execution_count": null,
   "metadata": {},
   "outputs": [],
   "source": [
    "plt.savefig(fname='',dpi=300)"
   ]
  },
  {
   "cell_type": "markdown",
   "metadata": {},
   "source": [
    "### x. Everything together"
   ]
  },
  {
   "cell_type": "code",
   "execution_count": null,
   "metadata": {},
   "outputs": [],
   "source": [
    "# Import(s)\n",
    "import numpy as np \n",
    "import matplotlib.pyplot as plt\n",
    "from matplotlib.ticker import AutoMinorLocator\n",
    "\n",
    "# Action\n",
    "fig, axs = plt.subplots(2,2)\n",
    "plt.rcParams['font.family'] == 'serif'\n",
    "plt.rcParams['mathtext.fontset'] = 'dejavuserif'\n",
    "\n",
    "# axs[0,0]\n",
    "\n",
    "# axs[0,1]\n",
    "\n",
    "# axs[1,0]\n",
    "\n",
    "# axs[1,1]\n",
    "\n",
    "x1 = np.linspace(-np.pi,np.pi)\n",
    "y1 = np.sin(x1)\n",
    "axs[0].plot(x1,y1,color='cornflowerblue',label='Sin(x)')\n",
    "\n",
    "# Aesthetics \n",
    "plt.rcParams['font.family']='serif'\n",
    "for i in range(2):\n",
    "    axs[i].legend(loc='upper right',fontsize=5,fancybox=False,edgecolor='black',shadow=False)\n",
    "    axs[i].tick_params(axis='both',which='both',direction='in')\n",
    "    axs[i].tick_params(bottom=True,top=True,left=True,right=True)\n",
    "    axs[i].tick_params(labelbottom=True,labeltop=False,labelleft=True,labelright=False)\n",
    "    axs[i].xaxis.set_minor_locator(AutoMinorLocator())\n",
    "    axs[i].yaxis.set_minor_locator(AutoMinorLocator())\n",
    "plt.subplots_adjust(hspace=0.45)"
   ]
  }
 ],
 "metadata": {
  "kernelspec": {
   "display_name": "Python 3",
   "language": "python",
   "name": "python3"
  },
  "language_info": {
   "codemirror_mode": {
    "name": "ipython",
    "version": 3
   },
   "file_extension": ".py",
   "mimetype": "text/x-python",
   "name": "python",
   "nbconvert_exporter": "python",
   "pygments_lexer": "ipython3",
   "version": "3.8.5"
  }
 },
 "nbformat": 4,
 "nbformat_minor": 2
}
